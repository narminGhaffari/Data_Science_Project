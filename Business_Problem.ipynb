{
 "cells": [
  {
   "cell_type": "markdown",
   "metadata": {},
   "source": [
    "# Introduction/Business Problem:"
   ]
  },
  {
   "cell_type": "markdown",
   "metadata": {},
   "source": [
    "The main purpose of business is how to improve the performance and if the performance is totally acceptable, how to establish the same business in other countries, areas and environments. "
   ]
  },
  {
   "cell_type": "markdown",
   "metadata": {},
   "source": [
    "#### The Clients question:\n",
    "\n",
    "The successful businessman who owns a very equipped and advance sport center in the Charlottenburg neighborhood of Berlin, is trying to build another branch in the same city. He believes that the location and environment of the sport center has high effect in the success and popularity of this sport center. For this reason, he needs the help of data scientists for a better decision for the next location for bulding the second branch of this sport center. "
   ]
  },
  {
   "cell_type": "markdown",
   "metadata": {},
   "source": [
    "#### Target Group\n",
    "\n",
    "This project can be interested for every person specially for the people with successful business background to find out the similarities between different neighborhoods within Berlin city. "
   ]
  }
 ],
 "metadata": {
  "kernelspec": {
   "display_name": "Python 3",
   "language": "python",
   "name": "python3"
  },
  "language_info": {
   "codemirror_mode": {
    "name": "ipython",
    "version": 3
   },
   "file_extension": ".py",
   "mimetype": "text/x-python",
   "name": "python",
   "nbconvert_exporter": "python",
   "pygments_lexer": "ipython3",
   "version": "3.6.4"
  }
 },
 "nbformat": 4,
 "nbformat_minor": 2
}
